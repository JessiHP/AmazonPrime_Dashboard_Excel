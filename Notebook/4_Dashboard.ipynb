{
 "cells": [
  {
   "cell_type": "markdown",
   "id": "448d194e",
   "metadata": {},
   "source": [
    "# Diseño del Dashboard"
   ]
  },
  {
   "cell_type": "markdown",
   "id": "c78beb99",
   "metadata": {},
   "source": [
    "Antes de diseñar el dashboard final, copiamos los datos transformados en un nuevo archivo de Excel llamado \"amazon_churn_dashboard.xlsx\" y ampliamos el conjunto de datos creando tres columnas adicionales:\n",
    "\n",
    "- Grupo de edad: dividiendo a los clientes en tres grupos de edad: menores de 30 años, mediana edad (entre 30 y 64 años) y mayores (65 años o más).\n",
    "\n"
   ]
  },
  {
   "cell_type": "code",
   "execution_count": null,
   "id": "aee7de70",
   "metadata": {},
   "outputs": [],
   "source": [
    "=SI([@Age]<30;\"Under 30\";SI([@Age]>=65;\"Senior\";\"Mid Age\"))"
   ]
  },
  {
   "cell_type": "markdown",
   "id": "6164bc46",
   "metadata": {},
   "source": [
    "\n",
    "- Relación número de quejas / antigüedad de la cuenta: para poder comparar a los clientes por número de quejas, independientemente del tiempo que lleven suscritos al servicio.\n",
    "\n"
   ]
  },
  {
   "cell_type": "code",
   "execution_count": null,
   "id": "8d8b21f2",
   "metadata": {},
   "outputs": [],
   "source": [
    "=[@[Número de quejas o soporte]]/[@[Duración de la cuenta (en meses)]]"
   ]
  },
  {
   "cell_type": "markdown",
   "id": "d1721e8b",
   "metadata": {},
   "source": [
    "- Cantidad de GB descargados: una nueva columna que clasifica a los clientes en tres grupos, según la cantidad promedio de GB descargados del servicio en la nube: Bajo (menos de 2 GB), Medio (entre 2 y 22 GB) y Alto (23 GB o más).\n"
   ]
  },
  {
   "cell_type": "code",
   "execution_count": null,
   "id": "25b8423f",
   "metadata": {},
   "outputs": [],
   "source": [
    "=SI([@[Avg Monthly GB Download]]<2;\"Low\";SI([@[Avg Monthly GB Download]]<=23;\"Medium\";\"High\"))"
   ]
  },
  {
   "cell_type": "markdown",
   "id": "03cc988f",
   "metadata": {},
   "source": [
    "- Clasificación de las quejas"
   ]
  },
  {
   "cell_type": "code",
   "execution_count": null,
   "id": "54247b2a",
   "metadata": {},
   "outputs": [],
   "source": [
    "=SI([@[Number of Complaints or Support]]<3;\"Low\";SI([@[Number of Complaints or Support]]<=7;\"Medium\";\"High\"))"
   ]
  },
  {
   "cell_type": "markdown",
   "id": "7d49dcac",
   "metadata": {},
   "source": [
    "Una vez depurados, transformados y analizados nuestros datos, comenzamos a diseñar el dashboard.\n",
    "\n",
    "#### 1. Definimos los indicadores clave de rendimiento (KPI). Para ello, creamos las siguientes métricas mediante fórmulas de Excel:"
   ]
  },
  {
   "cell_type": "markdown",
   "id": "09e31ac0",
   "metadata": {},
   "source": [
    "| KPI                              | Value       |\n",
    "|----------------------------------|-------------|\n",
    "| Churn Customers                  | 1797        |\n",
    "| Total Customers                  | 6687        |\n",
    "| Churn Rate                       | 27%         |\n",
    "| Retention Rate                   | 73%         |\n",
    "| Total Monthly Charges            | $206,889.00 |\n",
    "| Average Monthly Charges          | $30.94      |\n",
    "| Total Monthly Charges Churn      | $65,976.00  |\n",
    "| Average Monthly Charges Churn    | $36.71      |\n",
    "| Total Monthly Charges Retained   | $140,913.00 |\n",
    "| Average Monthly Charges Retained | $28.82      |\n"
   ]
  },
  {
   "cell_type": "markdown",
   "id": "8291ffe5",
   "metadata": {},
   "source": [
    "#### 2. Escogemos las columnas mas relevantes para el dashboard final:\n",
    "\n",
    "Columnas categóricas\n",
    "-\tChurn Label\n",
    "-\tGroup\n",
    "-\tAge Group\n",
    "-\tPayment Method\n",
    "-\tContract Type\n",
    "-\tChurn Category and Reason\n",
    "\n",
    "Columnas temporales\n",
    "-\tLast Transaction Date (in years and months)\n",
    "\n",
    "Columnas numéricas\n",
    "-\tCustomer Service Calls\n",
    "-\tAccount Length\n",
    "\n",
    "\n",
    "#### 3. Para resolver la pregunta: ¿Cuáles son las principales causas de la pérdida de suscriptores de Amazon Prime y cuáles podrían ser las posibles soluciones?\n",
    "\n",
    "Aplicamos el siguiente diseño:\n",
    "- Un primer conjunto de KPI: Total Customers, Churn Rate, Average Monthly Charges, Average Monthly Charges of Churn Customers and Average Monthly Charges of Retained Customers.\n",
    "\n",
    "- 6 gráficos, incluyendo:\n",
    "\n",
    "   - Un gráfico velocímetro o Gauge chart para representar el Churn Rate.\n",
    "    \n",
    "    - Un gráfico de líneas para mostrar de forma histórica Last Transaction Date vs Churn Label.\n",
    "\n",
    "    - Un gráfico de barras para Account Length vs Churn Label.\n",
    "\n",
    "    - Un gráfico de barras para Contract Type vs Churn Label.\n",
    "\n",
    "    - Un gráfico de barras para Churn Category and Reasons vs Churn Label (filtrado por las 5 razones principales).\n",
    "\n",
    "    - Un gráfico de barras para Customer Service Calls vs Churn Label.\n",
    "\n",
    "- Además se crean filtros por grupo, grupo de edad y método de pago."
   ]
  },
  {
   "cell_type": "markdown",
   "id": "63ec0162",
   "metadata": {},
   "source": [
    "Graficas relevantes:\n",
    "- Evolutiva de años (representacion temporal),(como gráfica y segmentar los años)\n",
    "- Senior, under 30, midage (representado con un segmentador)\n",
    "- Group (representado con un segmentador) \n",
    "- Número de llamadas a customer (como gráfica)\n",
    "- Metodo de pago y tipo de contrato (como gráfica)- el tipo de contrato es más importante y poner como segmentador el metodo de pago.\n",
    "- Razones de churn (hacer un top 5)"
   ]
  }
 ],
 "metadata": {
  "language_info": {
   "name": "python"
  }
 },
 "nbformat": 4,
 "nbformat_minor": 5
}
