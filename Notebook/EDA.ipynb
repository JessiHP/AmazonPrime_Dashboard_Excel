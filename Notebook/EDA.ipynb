{
 "cells": [
  {
   "cell_type": "markdown",
   "id": "8a9f9ca2",
   "metadata": {},
   "source": [
    "# Exploración de los datos de análisis"
   ]
  },
  {
   "cell_type": "markdown",
   "id": "27ef074f",
   "metadata": {},
   "source": [
    "### Análisis descriptivo de las variables numéricas"
   ]
  },
  {
   "cell_type": "markdown",
   "id": "7cb33165",
   "metadata": {},
   "source": [
    "    1. Account Length (in months)\n",
    "- Media 32 (promedio)\n",
    "- Mediana 29 (valor central)\n",
    "- Moda 1 (el valor más repetido)\n",
    "    - Duración de cuentas es muy variada hay cuentas muy longevas y otras que solo duran un mes\n",
    "- Desviación 24 (es una desviación muy alta)\n",
    "- Curtosis -1.38 (negativa -> hay mas valores por debajo de la media)\n",
    "\n",
    "Los datos muestran que la duración de las cuentas es bastante variada con una media de 32 meses y una mediana de 29 meses pero con algunas cuentas que duran significativamente menos (un mes es la moda) y algunas que se extienden hasta 77 meses esto indica tanto una retención de clientes a largo plazo como una alta rotación de las cuentas más recientes\n",
    "\n",
    "    2. Customer Service Calls\n",
    "- Desviación estandar (alta -> hay muchos que no llaman pero el que llama lo hace repetidamente)\n",
    "- Curtosis positiva (Hay mas peso en los extremos, tenemos outliers)\n",
    "- Asimetría positiva (Tenemos valores extremos a la derecha)\n",
    "\n",
    "Los datos muestran que la mayoría de los clientes más de la mitad no realizan ninguna llamada al servicio de Atención al Cliente con una media de 0,92 llamadas sin embargo existe un pequeño número de clientes que realizan múltiples llamadas lo que sugiere que mientras muchos están satisfechos otros pueden enfrentar problemas que requieren atención adicional.\n",
    "\n",
    "    3. Avg Monthly GB Download\n",
    "\n",
    "- Moda 0 (la mayor parte no descarga gb)\n",
    "- Desviación (muy alta por lo que tenemos valores extremos)\n",
    "- Curtosis (es positiva -> las colas pesan mas -> la mayoría no descargan pero el que lo hace descarga mucho)\n",
    "\n",
    "Los datos muestran que aunque el promedio de descargas mensuales es de 6,69 GB hay una gran variabilidad en el uso de datos con muchos clientes descargando 0 GB y algunos alcanzando hasta 43 GB esto sugiere que el consumo de datos es disperso con un grupo significativo que utiliza el servicio de manera muy baja y otro que lo utiliza intensiva. Hay clientes que han descargado muchos GB al mes frente a clientes que no han descargado nada, lo cual se puede deducir del rango, la desviación estándar, la varianza y la asimetría positiva. Los datos indican que la mayoría de los suscriptores prefiere la opción de streaming, mientras que hay un grupo significativo que prefiere la descarga de contenido. \n",
    "\n",
    "    4. Extra Data Charges\n",
    "- Desviación altísima (la moda es 0 y la median es cero -> valores más comunes, -> hay pocos con cargo extra pero los que tiene cargo es alto)\n",
    "\n",
    "Los datos muestran que aunque el promedio de cargos adicionales es de 3,37 la mayoría de los clientes no incurren en esos costos ya que tanto la mediana como la moda son cero sin embargo hay un grupo significativo de clientes que enfrentan cargos altos lo que indica que existe una disparidad en el uso de datos que resulta en costos adicionales evidenciando tanto la eficiencia en la gestión de datos de muchos usuarios como la necesidad de atención a aquellos que incurrieron en altos cargos. Lo más probable es que esta variable tenga una correlación positiva con la anterior (Avg Monthly GB Download): cuantos más GB se descarguen, mayor será el cargo adicional por datos (se deberá de comprobar)\n",
    "\n",
    "    5. Age\n",
    "- Desviación muy alta (hay valores extremos que se alejan mucho de la media)\n",
    "- Curtosis (negativa porque los valores están más acumulados alrededor de la media y esto nos dice que tenemos outiliers)\n",
    "- Coeficiente (positiva la mayor parte del grupo están por encima de la media -> la mayoría son mayores). Cola hacia la derecha, tenemos valores extremos a la derecha de la distribución y nuestros valores estaran más concentrados a la izquierda de la media.\n",
    "\n",
    "Los datos muestran que la edad promedio de los clientes es de aproximadamente 47 años con una mediana también de 47 años lo que sugiere una distribución equilibrada, cercana a la normalidad y que el grupo tiende a ser de mediana edad sin embargo hay un número significativo de clientes jóvenes como indica la moda de 29 años. La dispersión de los datos es notoria: la desviación estándar es de aproximadamente 17 años y el rango va desde los 19 hasta los 85 años. Está claro que Amazon Prime Video ofrece una variedad de contenidos aptos para todas las edades y que la compañía juega en un mercado muy segmentado, necesitando aplicar estrategias de marketing muy diversas para asegurar la fidelización de sus clientes.\n",
    "\n",
    "    6. Number of Customers in Group\n",
    "Los datos muestran que el promedio de clientes por grupo es de aproximadamente 0,84 lo que indica que la mayoría de los grupos no tiene clientes como lo sugieren la mediana y la moda aunque hay una gran variabilidad en el número de clientes por grupo con un máximo de 6 la alta desviación estándar y el coeficiente de asimetría indican que algunos grupos pueden tener una concentración inusualmente alta de clientes mientras que otros permanecen vacíos esto puede sugerir la necesidad de revisar cómo se  están formando y gestionando estos grupos para optimizar la asignación de clientes. Coeficiente de asimetria postiva, cola hacia la derecha. Curtosis positiva = 2,29. La distribución tiene una cola más larga. \n",
    "\n",
    "    7. Monthly Charge(USD)\n",
    "Los datos muestran que el cargo mensual promedio es de aproximadamente 30,93 USD con una mediana también de 31 USD lo que indica una distribución equilibrada, sin embargo la moda de 10 USD, sugiere que muchos clientes optan por planes más económicos. La amplia variabilidad en los cargos evidenciada por la alta desviación estándar y el rango, resalta que existen diferentes niveles de servicio lo que puede ser estratégico para atender a diversos segmentos de mercado\n",
    "\n",
    "\n",
    "    8. Total Charges\n",
    "Los datos muestran que el cargo total promedio es de aproximadamente 1085,43 USD con una mediana de 651 USD que indica que la mitad de los clientes tiene un gasto total relativamente bajo, la alta desviación estándar y varianza reflejan una gran diversidad en los totales acumulados, lo que sugiere que algunos clientes han estado con el servicio por mucho tiempo y han acumulado gastos altos mientras que otros han tenido una relación más breve y menos costosa con la empresa. Esto podría indicar la necesidad de segmentar estrategias de marketing y Atención al Cliente para abordar las diferentes necesidades de estos grupos\n",
    "\n",
    "    9. Average Monthly Expenses\n",
    "En resumen, los datos muestran que el gasto mensual promedio de los clientes es de aproximadamente 31 USD, con una mediana cercana que sugiere que muchos clientes se agrupan en torno a este valor. Sin embargo, la moda más alta de 47,18 indica que existe un grupo significativo de clientes que gasta más. La alta desviación estándar y varianza reflejan una gran diversidad en los hábitos de gasto, lo que puede ser útil para la segmentación y el diseño de ofertas personalizadas\n",
    "\n",
    "\n",
    "    10. Number of Complaints or Support\n",
    "Una mediana (5) casi idéntica a la media (5.01) y un coeficiente de asimetría cercano a 0 indican que la interacción de los clientes con el servicio al cliente está más o menos equilibrada, sin segmentaciones significativas. Hay una mayoría de clientes que se han quejado o solicitado soporte 6 veces, lo cual es un valor significativamente alto. Además, los datos están dispersos, revelando clientes que han registrado de 0 a 10 quejas o soporte. En general, los datos revelan que hay una mayoría de clientes con problemas con el servicio. Además, aquellos que se quejan o solicitan soporte a menudo lo hacen varias veces, lo que potencialmente indica problemas sin resolver después de la primera interacción. Esto es algo que requiere atención especial. Un análisis de correlación entre la rotación de clientes y el número de quejas o solicitudes de soporte podría ayudar a determinar si las quejas frecuentes contribuyen a la pérdida de clientes.\n"
   ]
  },
  {
   "cell_type": "markdown",
   "id": "e5a95a58",
   "metadata": {},
   "source": [
    "### Análisis descriptivo de las variables categóricas y temporales"
   ]
  },
  {
   "cell_type": "markdown",
   "id": "3f231223",
   "metadata": {},
   "source": [
    "#### Variables categóricas"
   ]
  },
  {
   "cell_type": "markdown",
   "id": "b029c6a5",
   "metadata": {},
   "source": [
    "    1. Unlimited Data Plan\n",
    "Los clientes tienden a abandonar el servicio si han contratado los datos ilimitados, ya que pasan de una tasa de abandono del 16,12% a 32,11%. Esto puede deberse a que no sea un servicio acorde a las necesidades de los usuarios y esto genere insatisfacción en los mismos.\n",
    "\n",
    "    2. Gender\n",
    "Parece que no es un factor determinante en la tasa de abandono del servicio ya que todos los datos giran en torno al 27%. Sin embargo es cierto que aumenta ligeramente en el caso de los usuarios que prefieren no compartir su información de género (28,57%)\n",
    "\n",
    "    3. Under 30\n",
    "Los usuarios de menos de 30 tienen una mayor fidelidad con el servicio ya que estos tienen una tasa de abandono del 22,98% frente al 27,79% de los mayores de 3. Esto puede deberse a un contenido más enfocado a un público joven, o una mayor facilidad a la hora de interactuar con la plataforma\n",
    "\n",
    "    4. Senior\n",
    "Los usuarios de la categoría sénior (más 65) tienden a abandonar el servicio (38,46%) frente a los menores de 65 que tienen una tasa de abandono del 24,18%. Esto puede estar relacionado con la columna anterior habiendo problemas con la accesibilidad de la plataforma o contenido no acorde con los gustos de este sector de clientes. Además, puede deberse a que haya menos personas que hagan pedidos a domicilio y no les compense pagar el servicio.\n",
    "\n",
    "    5. Group\n",
    "Los usuarios pertenecientes a un pack grupo tienen una tasa de abandono de solo 6,5%. Sugiere una gran satisfacción por parte de los clientes que pertenecen a este sector. Probablemente porque el coste del usuario sea menor. Recomendaríamos al cliente potenciar los planes de grupo.\n",
    "\n",
    "    6. Device Protection & Online Backup\n",
    "Los usuarios que pagan por este servicio es más fácil que sigan con nosotros ya que la tasa de abandono pasa del 28,87% al 23,02%. Puede ser que les ofrezcamos seguridad a la hora de no perder sus fotos y vídeos, en resumen, sus recuerdos. Además es posible que los clientes que contrataron este servicio lo hayan hecho después de un ejercicio de proyección a futuro haciendo un análisis previo y decidiendo que con nosotros era con los que iban a mantener sus fotos y por ello no se quieran ir del servicio.\n",
    "\n",
    "    7. Contract Type\n",
    "La permanencia a la plataforma parece que está estrechamente ligada a la duración del contrato ya que podemos observar cómo los contratos mes a mes tienen una tasa de abandono del 46,31%, año a año del 11,28% y de 2 años solo del 2,78%. Esto puede deberse a que muchos usuarios solo contratan la opción de un mes por varias razones periodo de prueba, compras estacionales, estreno de series concretas, etc. Sería conveniente potenciar la venta de los contratos de larga duración.\n",
    "\n",
    "    8. Payment Method\n",
    "Tenemos nulos. (16 usuarios). Hay una diferencia abrupta entre el abandono de los usuarios que pagan con paper check 38,21%, sin embargo el número de usuarios que utiliza este método es muy pequeño respecto a los otros dos métodos de pago. Adicionalmente, observamos como los usuarios que pagaron con débito son más propensos a abandonar el servicio 34,53%. Esto puede deberse a algún problema con la plataforma de pago. Además habría que estudiar el poder adquisitivo de los usuarios que tienen tarjeta de crédito frente a tarjeta de de\n",
    "\n",
    "    9. Churn Category\n",
    "No hemos hecho un análisis comparativo de la categoría de abandono con respecto a si el cliente ha abandonado o no ya que no tenía sentido esa tabla. Sin embargo hemos obtenido que hay clientes que abandonan pero que no nos indican la razón con un porcentaje muy pequeño 0,55% y además hemos estudiado que la razón principal del abandono de nuestros clientes es por la competencia.\n",
    "\n",
    "    10. Customer Segment\n",
    "Podemos observar cómo el segmento del cliente no es determinante para identificar algún patrón en el abandono o no de la plataforma, ya que todas las categorías tienen una tasa de abandono cercana al 26%\n",
    "\n",
    "    11. Preferred Contact Method\n",
    "Al igual que en la columna anterior no parece que haya una relación directa entre el abandono y el método de ontacto preferido por el cliente. \n",
    "\n",
    "    12. Applied Discount\n",
    "Aunque pudiera parecer en un momento lógico que los clientes decidieran quedarse en el servicio si les aplicábamos un descuento, los datos nos han demostrado que no es una característica que este relacionada con el abandono.\n"
   ]
  },
  {
   "cell_type": "markdown",
   "id": "ffef25fc",
   "metadata": {},
   "source": [
    "#### Variables temporales"
   ]
  },
  {
   "cell_type": "markdown",
   "id": "008256b8",
   "metadata": {},
   "source": [
    "    1. Contact Date\n",
    "\n",
    "-\tAño: pudimos observar que el año de contacto donde más tasa de abandono hubo fue 2022 con un 28,43 por 100 mientras que el que menos fue 2020,1 25,47%\n",
    "-\tTrimestre: en este caso vimos cómo el trimestre de contacto con mayor tasa de abandono es el segundo abril junio esto puede ser debido a que los usuarios que contrataron este servicio lo hicieron para utilizarlo durante el periodo vacacional pero no les interesa tenerlo durante todo el año\n",
    "-\tMes: en este caso pudimos ver cómo el mes donde se realizó el contacto con mayor abandono es mayo con un 29,55% acorde a los datos trimestrales\n",
    "\n",
    "``2. Last Transaction Date``\n",
    "\n",
    "-\tAño: Podemos ver cómo el año en el que ha habido una mayor tasa de abandono es el 2022,1 27,28%. Esto pudo deberse a que a partir de ese año las restricciones por COVID en EEUU prácticamente desaparecieron, por lo tanto, menos gente decidiera quedarse en casa y no fuera necesario seguir con nuestro servicio\n",
    "-\tTrimestre: En este caso el trimestre con mayor tasa de abandono es el primero o en un 28,77% esto puede deberse a que los usuarios no quieren seguir con la suscripción para el segundo trimestre ya que al empezar la primavera pasan más tiempo fuera de casa\n",
    "-\tAño: sin embargo podemos observar cómo el mes con mayor tasa de abandono es agosto muy probablemente debido a que haya mucha gente que se vaya de vacaciones ese mes y no vaya a disfrutar del servicio durante el periodo vacacional prefiriendo darse de baja en agosto para volver a suscribirse al mes siguiente.\n"
   ]
  }
 ],
 "metadata": {
  "language_info": {
   "name": "python"
  }
 },
 "nbformat": 4,
 "nbformat_minor": 5
}
