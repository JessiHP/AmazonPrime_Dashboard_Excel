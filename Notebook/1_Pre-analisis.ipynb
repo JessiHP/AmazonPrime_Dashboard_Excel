{
 "cells": [
  {
   "cell_type": "markdown",
   "id": "24f021ee",
   "metadata": {},
   "source": [
    "# Pre-analisis"
   ]
  },
  {
   "cell_type": "markdown",
   "id": "c6c1590d",
   "metadata": {},
   "source": [
    "    - Idioma en Inglés -> Normalizar a Inglés todas las columnas.\n",
    "\n",
    "    - Marcar duplicados en rojo con formato condicional y eliminarlos.\n"
   ]
  },
  {
   "cell_type": "markdown",
   "id": "b0b08320",
   "metadata": {},
   "source": [
    "### 📄Observación de las Variables\n",
    "\n",
    "- **Customer ID** *(str)* Identificador único del cliente. -> ``Comprobar si hay duplicados``\n",
    "\n",
    "- **Churn Label** *(str)*: Variable categórica, etiqueta tipo Sí/No que indica si el suscriptor ha cancelado la suscripción o no.\n",
    "\n",
    "- **Churned** *(bool)*: Variable vinaria,`1` si el suscriptor canceló la suscripción, `0` si continúa suscrito. -> ``Comprobar si coincide con la columna **Churn Label**, de ser así eliminaremos esa columna.``\n",
    "\n",
    "- **Account Length (in months)** *(int)*: Duración de la cuenta actual o más reciente del suscriptor, en meses.\n",
    "\n",
    "- **Customer Service Calls** *(int)*: Número de llamadas realizadas al servicio de atención al cliente.\n",
    "\n",
    "- **Avg Monthly GB Download** *(int)*: Promedio de GB descargados al mes.\n",
    "\n",
    "- **Unlimited Data Plan** *(boolean)*: `1` si el cliente tiene plan de datos ilimitado, `0` si tiene un plan limitado. -> ``Transformar a etiqueta tipo Yes/No``\n",
    "\n",
    "- **Extra Data Charges** *(int)*: Pagos adicionales por almacenamiento de datos extra (en USD).\n",
    "\n",
    "- **State** *(str)*: Abreviación del estado de residencia del cliente (EE. UU.). -> ``Puede ser interesante crear una nueva columna con el nombre de cada estado``\n",
    "\n",
    "- **Phone Number** *(str)*: Número de teléfono del cliente.\n",
    "\n",
    "- **Gender** *(str)*: Género del cliente. -> ``Modificarla porque está en dos idiomas``\n",
    "\n",
    "- **Age** *(int)*: Edad del cliente. -> ``Puede ser interesante segmentar en diferentes grupos``\n",
    "\n",
    "- **Under30** *(str)*: Variable binaria, etiqueta tipo Sí/No que indica si el cliente es menor de 30 años. -> ``Comprobarla con columna añadida y formato if``\n",
    "\n",
    "- **Senior** *(str)*: Variable binaria, etiqueta tipo Sí/No que indica si el cliente tiene 65 años o más. -> ``Comprobarla con columna añadida y formato if``\n",
    "\n",
    "- **Group** *(str)*: etiqueta tipo Sí/No que indica si el cliente pertenece a un plan de suscripción familiar.\n",
    "\n",
    "- **Number of Customers in Group** *(int)*: Número de clientes incluidos en el plan familiar.\n",
    "\n",
    "- **Device Protection & Online Backup** *(str)*: Etiqueta tipo Sí/No que indica si la suscripción incluye protección de dispositivo y respaldo en línea.\n",
    "\n",
    "- **Contract Type** *(str)*: Tipo de contrato según el período de suscripción (mensual, anual, etc.).\n",
    "\n",
    "- **Payment Method** *(str)*: Método de pago utilizado por el cliente para el último período de suscripción. -> ``Normalizar datos, hay muchos valores nulos``\n",
    "\n",
    "- **Monthly Charge** *(int)*: Pago mensual del cliente por la suscripción (en USD). -> ``Normalizar datos, mezcla texto con números, también hay muchos valores nulos`\n",
    "\n",
    "- **Total Charges** *(int)*: Monto total que se ha cobrado a cada suscriptor desde el inicio del período de suscripción. -> ``Hay valores nulos, tal vez se puede completar con otros valores``\n",
    "\n",
    "- **Churn category** *(str)*: categoría del motivo de cancelación de la suscripción. -> ``Hay valores nulos``\n",
    "\n",
    "- **Churn Reason** *(str)*: Razón específica de la cancelación de la suscripción. -> ``Hay valores nulos``\n",
    "\n",
    "- **Contact Date** *(date)*: Fecha del último contacto. -> ``Errores de formato fecha``\n",
    "\n",
    "- **Last Transaction Date** *(date)*: Fecha del último pago realizado. -> ``Formato fecha diferente a **Contact Date**``\n",
    "\n",
    "- **Customer Tenure (in months)** *(int)*: Tiempo transcurrido desde la primera suscripción, en meses.(Tiempo de permanencia del cliente).\n",
    "\n",
    "- **Customer Segment** *(str)*: Tipo de clasificación del cliente (por ejemplo: alto, medio o bajo).\n",
    "\n",
    "- **Average Monthly Expenses** *(float)*: Gasto promedio mensual del suscriptor. -> ``Dar formato moneda con 2 decimales``\n",
    "\n",
    "- **Number of Complaints or Support** *(int)*: Número de veces que el cliente emitió una queja o solicitud de soporte.\n",
    "\n",
    "- **Preferred Contact Method** *(str)*: Método de contacto preferido del cliente.\n",
    "\n",
    "- **Applied Discount** *(str)*: Indica si se ha aplicado un descuento (**VERDADERO**) o no (**FALSO**). -> ``Esta en booleano??``\n",
    "\n",
    "- **Favorite TV show** *(str)*: Programa de televisión favorito del cliente.\n",
    "\n",
    "- **Internal Notes** *(str)*: Notas internas."
   ]
  },
  {
   "cell_type": "markdown",
   "id": "9f3d0647",
   "metadata": {},
   "source": [
    "## 📄 Columnas de interés para el análisis\n",
    "\n",
    "-\t**Churn label, Churn category, Churn Reason**: variables clave del análisis.\n",
    "-\t**Account length**: para analizar si las cancelaciones corresponden a suscriptores antiguos o nuevos.\n",
    "-\t**Customer service calls**: para analizar si las cancelaciones están relacionadas con la frecuencia de las llamadas de atención al cliente.\n",
    "-\t**Number of complaints or Support**: para analizar si las cancelaciones están relacionadas con el número de quejas o asistencia.\n",
    "-\t**State:** para analizar las tasas de abandono por estado de EE. UU. Podríamos encontrar patrones geográficos.\n",
    "-\t**Gender, Age, Under30, Senior**: columnas interesantes para segmentar el conjunto de datos y analizar la tasa de abandono por grupos.\n",
    "-\t**Group**: para analizar el éxito o el fracaso de los planes familiares.\n",
    "-\t**Contract type:** para analizar qué tipo de contrato favorece la retención de clientes. Puede ser el contrato anual.\n",
    "-\t**Contact date, Last transaction date**: para analizar si los suscriptores abandonan la suscripción poco después del último contacto con Amazon (nos daría pistas sobre la naturaleza de esos últimos contactos: quejas, solicitudes de soporte, etc.) o poco antes/después del pago."
   ]
  }
 ],
 "metadata": {
  "language_info": {
   "name": "python"
  }
 },
 "nbformat": 4,
 "nbformat_minor": 5
}
